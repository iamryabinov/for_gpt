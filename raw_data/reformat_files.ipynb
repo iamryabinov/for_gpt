{
 "cells": [
  {
   "cell_type": "code",
   "execution_count": 1,
   "id": "49d8f397",
   "metadata": {},
   "outputs": [],
   "source": [
    "import pandas as pd\n",
    "import os "
   ]
  },
  {
   "cell_type": "code",
   "execution_count": null,
   "id": "75e2233a",
   "metadata": {},
   "outputs": [],
   "source": []
  },
  {
   "cell_type": "code",
   "execution_count": null,
   "id": "317289d3",
   "metadata": {},
   "outputs": [],
   "source": []
  },
  {
   "cell_type": "code",
   "execution_count": 2,
   "id": "18262b88",
   "metadata": {},
   "outputs": [
    {
     "name": "stdout",
     "output_type": "stream",
     "text": [
      "1188047 1188047 1188047 1188047\n"
     ]
    }
   ],
   "source": [
    "if not os.path.exists('all_data'):\n",
    "    os.mkdir('all_data')\n",
    "csv_list = [n for n in os.listdir() if n.endswith('.csv')]\n",
    "all_data = {\n",
    "    'axis': [],\n",
    "    'motor_frequency': [],\n",
    "    'timestamp': [],\n",
    "    'gyro_value': []\n",
    "}\n",
    "for idx in range(len(csv_list)):\n",
    "    filename = csv_list[idx]\n",
    "    name, ext = filename.split('.')\n",
    "    axis, motor_freq, _ = name.split(' ')\n",
    "    axis = axis[-1]\n",
    "    _df = pd.read_csv(filename, names = [axis, \"timestamp\"])\n",
    "    gyro_values = _df[axis].tolist()\n",
    "    gyro_values_new = [x[1:] for x in gyro_values]\n",
    "    gyro_values = []\n",
    "    timestamp_values = []\n",
    "    axis_values = []\n",
    "    motor_freq_values = []\n",
    "    for val in gyro_values_new:\n",
    "        val_list = val.split(' ')\n",
    "        val_list = [_val for _val in val_list if _val != '']\n",
    "        gyro_value, timestamp_value = val_list\n",
    "        gyro_values.append(gyro_value)\n",
    "        timestamp_values.append(timestamp_value)\n",
    "        axis_values.append(axis)\n",
    "        motor_freq_values.append(motor_freq)\n",
    "    all_data['axis'].extend(axis_values)\n",
    "    all_data['motor_frequency'].extend(motor_freq_values)\n",
    "    all_data['timestamp'].extend(timestamp_values)\n",
    "    all_data['gyro_value'].extend(gyro_values)\n",
    "print(len(all_data['axis']), len(all_data['motor_frequency']), len(all_data['timestamp']), len(all_data['gyro_value']))\n",
    "df = pd.DataFrame(all_data)\n",
    "df.to_csv('all_data/all_gyro_data_unfiltered.csv', index=False, sep=';')"
   ]
  },
  {
   "cell_type": "code",
   "execution_count": null,
   "id": "37ab0afd",
   "metadata": {},
   "outputs": [],
   "source": []
  },
  {
   "cell_type": "code",
   "execution_count": null,
   "id": "9ef908dd",
   "metadata": {},
   "outputs": [],
   "source": []
  },
  {
   "cell_type": "code",
   "execution_count": null,
   "id": "5c522773",
   "metadata": {},
   "outputs": [],
   "source": []
  },
  {
   "cell_type": "code",
   "execution_count": null,
   "id": "1f17a6fb",
   "metadata": {},
   "outputs": [],
   "source": []
  },
  {
   "cell_type": "code",
   "execution_count": null,
   "id": "6574618e",
   "metadata": {},
   "outputs": [],
   "source": []
  },
  {
   "cell_type": "code",
   "execution_count": null,
   "id": "8d8fbe0e",
   "metadata": {},
   "outputs": [],
   "source": []
  },
  {
   "cell_type": "code",
   "execution_count": null,
   "id": "d13e14fe",
   "metadata": {},
   "outputs": [],
   "source": []
  },
  {
   "cell_type": "code",
   "execution_count": null,
   "id": "80377341",
   "metadata": {},
   "outputs": [],
   "source": []
  },
  {
   "cell_type": "code",
   "execution_count": null,
   "id": "67ab0e64",
   "metadata": {},
   "outputs": [],
   "source": []
  }
 ],
 "metadata": {
  "kernelspec": {
   "display_name": "Python 3 (ipykernel)",
   "language": "python",
   "name": "python3"
  },
  "language_info": {
   "codemirror_mode": {
    "name": "ipython",
    "version": 3
   },
   "file_extension": ".py",
   "mimetype": "text/x-python",
   "name": "python",
   "nbconvert_exporter": "python",
   "pygments_lexer": "ipython3",
   "version": "3.9.15"
  }
 },
 "nbformat": 4,
 "nbformat_minor": 5
}
